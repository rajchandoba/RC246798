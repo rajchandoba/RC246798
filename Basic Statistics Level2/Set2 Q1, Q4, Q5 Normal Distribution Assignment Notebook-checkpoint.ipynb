{
 "cells": [
  {
   "cell_type": "markdown",
   "id": "24874c54",
   "metadata": {},
   "source": [
    "# Q1"
   ]
  },
  {
   "cell_type": "code",
   "execution_count": 1,
   "id": "c5ac7c0e",
   "metadata": {},
   "outputs": [],
   "source": [
    "import pandas as pd\n",
    "import numpy as np\n"
   ]
  },
  {
   "cell_type": "code",
   "execution_count": 2,
   "id": "deab48f4",
   "metadata": {},
   "outputs": [],
   "source": [
    "from scipy import stats"
   ]
  },
  {
   "cell_type": "code",
   "execution_count": 3,
   "id": "ed62f10f",
   "metadata": {},
   "outputs": [
    {
     "data": {
      "text/plain": [
       "0.7340144709512995"
      ]
     },
     "execution_count": 3,
     "metadata": {},
     "output_type": "execute_result"
    }
   ],
   "source": [
    "stats.norm.cdf(50,45,8)"
   ]
  },
  {
   "cell_type": "markdown",
   "id": "8554da63",
   "metadata": {},
   "source": [
    "# Q4"
   ]
  },
  {
   "cell_type": "code",
   "execution_count": 4,
   "id": "0915efb7",
   "metadata": {},
   "outputs": [],
   "source": [
    "import pandas as pd\n",
    "import numpy as np\n",
    "from scipy import stats"
   ]
  },
  {
   "cell_type": "code",
   "execution_count": 5,
   "id": "6f8bd9d8",
   "metadata": {},
   "outputs": [
    {
     "data": {
      "text/plain": [
       "151.516586070978"
      ]
     },
     "execution_count": 5,
     "metadata": {},
     "output_type": "execute_result"
    }
   ],
   "source": [
    "stats.norm.ppf(0.995,100,20)"
   ]
  },
  {
   "cell_type": "code",
   "execution_count": 6,
   "id": "c99e5cfc",
   "metadata": {},
   "outputs": [
    {
     "data": {
      "text/plain": [
       "48.483413929021985"
      ]
     },
     "execution_count": 6,
     "metadata": {},
     "output_type": "execute_result"
    }
   ],
   "source": [
    "stats.norm.ppf(0.005,100,20)"
   ]
  },
  {
   "cell_type": "markdown",
   "id": "c39e6a14",
   "metadata": {},
   "source": [
    "# Q5"
   ]
  },
  {
   "cell_type": "code",
   "execution_count": 7,
   "id": "a8f7e84d",
   "metadata": {},
   "outputs": [
    {
     "data": {
      "text/plain": [
       "219.12010804637984"
      ]
     },
     "execution_count": 7,
     "metadata": {},
     "output_type": "execute_result"
    }
   ],
   "source": [
    "stats.norm.ppf (0.025,45*5,3)"
   ]
  },
  {
   "cell_type": "code",
   "execution_count": 8,
   "id": "d6342d60",
   "metadata": {},
   "outputs": [
    {
     "data": {
      "text/plain": [
       "230.87989195362016"
      ]
     },
     "execution_count": 8,
     "metadata": {},
     "output_type": "execute_result"
    }
   ],
   "source": [
    "stats.norm.ppf (0.975,45*5,3)"
   ]
  },
  {
   "cell_type": "code",
   "execution_count": 9,
   "id": "d6e39092",
   "metadata": {},
   "outputs": [
    {
     "data": {
      "text/plain": [
       "307.1601440618398"
      ]
     },
     "execution_count": 9,
     "metadata": {},
     "output_type": "execute_result"
    }
   ],
   "source": [
    "stats.norm.ppf (0.025,45*7,4) "
   ]
  },
  {
   "cell_type": "code",
   "execution_count": 10,
   "id": "85856300",
   "metadata": {},
   "outputs": [
    {
     "data": {
      "text/plain": [
       "322.8398559381602"
      ]
     },
     "execution_count": 10,
     "metadata": {},
     "output_type": "execute_result"
    }
   ],
   "source": [
    "stats.norm.ppf (0.975,45*7,4) "
   ]
  },
  {
   "cell_type": "code",
   "execution_count": 12,
   "id": "4456e9da",
   "metadata": {},
   "outputs": [
    {
     "data": {
      "text/plain": [
       "220.0654391191456"
      ]
     },
     "execution_count": 12,
     "metadata": {},
     "output_type": "execute_result"
    }
   ],
   "source": [
    "stats.norm.ppf (0.05,45*5,3)"
   ]
  },
  {
   "cell_type": "code",
   "execution_count": 13,
   "id": "16706eba",
   "metadata": {},
   "outputs": [
    {
     "data": {
      "text/plain": [
       "308.4205854921941"
      ]
     },
     "execution_count": 13,
     "metadata": {},
     "output_type": "execute_result"
    }
   ],
   "source": [
    "stats.norm.ppf (0.05,45*7,4)"
   ]
  },
  {
   "cell_type": "code",
   "execution_count": null,
   "id": "c0364b7a",
   "metadata": {},
   "outputs": [],
   "source": []
  }
 ],
 "metadata": {
  "kernelspec": {
   "display_name": "Python 3 (ipykernel)",
   "language": "python",
   "name": "python3"
  },
  "language_info": {
   "codemirror_mode": {
    "name": "ipython",
    "version": 3
   },
   "file_extension": ".py",
   "mimetype": "text/x-python",
   "name": "python",
   "nbconvert_exporter": "python",
   "pygments_lexer": "ipython3",
   "version": "3.9.7"
  }
 },
 "nbformat": 4,
 "nbformat_minor": 5
}
