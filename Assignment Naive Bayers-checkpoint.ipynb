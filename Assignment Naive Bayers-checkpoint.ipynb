{
 "cells": [
  {
   "cell_type": "markdown",
   "id": "9a632b6d",
   "metadata": {},
   "source": [
    "# Prepare a classification model using Naive Bayes for salary data"
   ]
  },
  {
   "cell_type": "code",
   "execution_count": 1,
   "id": "d16e5871",
   "metadata": {},
   "outputs": [],
   "source": [
    "import pandas as pd\n",
    "import numpy as np\n",
    "import matplotlib.pyplot as plt\n",
    "import seaborn as sns"
   ]
  },
  {
   "cell_type": "code",
   "execution_count": 2,
   "id": "28a2b7ec",
   "metadata": {},
   "outputs": [],
   "source": [
    "dataset_Train=pd.read_csv(\"C:/Users/Admin/Desktop/Data Science/Assignment/SalaryData_Train(NB).csv\")\n",
    "dataset_Test=pd.read_csv(\"C:/Users/Admin/Desktop/Data Science/Assignment/SalaryData_Test(NB).csv\")"
   ]
  },
  {
   "cell_type": "code",
   "execution_count": 3,
   "id": "4d1dd8e2",
   "metadata": {},
   "outputs": [
    {
     "data": {
      "text/html": [
       "<div>\n",
       "<style scoped>\n",
       "    .dataframe tbody tr th:only-of-type {\n",
       "        vertical-align: middle;\n",
       "    }\n",
       "\n",
       "    .dataframe tbody tr th {\n",
       "        vertical-align: top;\n",
       "    }\n",
       "\n",
       "    .dataframe thead th {\n",
       "        text-align: right;\n",
       "    }\n",
       "</style>\n",
       "<table border=\"1\" class=\"dataframe\">\n",
       "  <thead>\n",
       "    <tr style=\"text-align: right;\">\n",
       "      <th></th>\n",
       "      <th>age</th>\n",
       "      <th>workclass</th>\n",
       "      <th>education</th>\n",
       "      <th>educationno</th>\n",
       "      <th>maritalstatus</th>\n",
       "      <th>occupation</th>\n",
       "      <th>relationship</th>\n",
       "      <th>race</th>\n",
       "      <th>sex</th>\n",
       "      <th>capitalgain</th>\n",
       "      <th>capitalloss</th>\n",
       "      <th>hoursperweek</th>\n",
       "      <th>native</th>\n",
       "      <th>Salary</th>\n",
       "    </tr>\n",
       "  </thead>\n",
       "  <tbody>\n",
       "    <tr>\n",
       "      <th>0</th>\n",
       "      <td>39</td>\n",
       "      <td>State-gov</td>\n",
       "      <td>Bachelors</td>\n",
       "      <td>13</td>\n",
       "      <td>Never-married</td>\n",
       "      <td>Adm-clerical</td>\n",
       "      <td>Not-in-family</td>\n",
       "      <td>White</td>\n",
       "      <td>Male</td>\n",
       "      <td>2174</td>\n",
       "      <td>0</td>\n",
       "      <td>40</td>\n",
       "      <td>United-States</td>\n",
       "      <td>&lt;=50K</td>\n",
       "    </tr>\n",
       "    <tr>\n",
       "      <th>1</th>\n",
       "      <td>50</td>\n",
       "      <td>Self-emp-not-inc</td>\n",
       "      <td>Bachelors</td>\n",
       "      <td>13</td>\n",
       "      <td>Married-civ-spouse</td>\n",
       "      <td>Exec-managerial</td>\n",
       "      <td>Husband</td>\n",
       "      <td>White</td>\n",
       "      <td>Male</td>\n",
       "      <td>0</td>\n",
       "      <td>0</td>\n",
       "      <td>13</td>\n",
       "      <td>United-States</td>\n",
       "      <td>&lt;=50K</td>\n",
       "    </tr>\n",
       "    <tr>\n",
       "      <th>2</th>\n",
       "      <td>38</td>\n",
       "      <td>Private</td>\n",
       "      <td>HS-grad</td>\n",
       "      <td>9</td>\n",
       "      <td>Divorced</td>\n",
       "      <td>Handlers-cleaners</td>\n",
       "      <td>Not-in-family</td>\n",
       "      <td>White</td>\n",
       "      <td>Male</td>\n",
       "      <td>0</td>\n",
       "      <td>0</td>\n",
       "      <td>40</td>\n",
       "      <td>United-States</td>\n",
       "      <td>&lt;=50K</td>\n",
       "    </tr>\n",
       "    <tr>\n",
       "      <th>3</th>\n",
       "      <td>53</td>\n",
       "      <td>Private</td>\n",
       "      <td>11th</td>\n",
       "      <td>7</td>\n",
       "      <td>Married-civ-spouse</td>\n",
       "      <td>Handlers-cleaners</td>\n",
       "      <td>Husband</td>\n",
       "      <td>Black</td>\n",
       "      <td>Male</td>\n",
       "      <td>0</td>\n",
       "      <td>0</td>\n",
       "      <td>40</td>\n",
       "      <td>United-States</td>\n",
       "      <td>&lt;=50K</td>\n",
       "    </tr>\n",
       "    <tr>\n",
       "      <th>4</th>\n",
       "      <td>28</td>\n",
       "      <td>Private</td>\n",
       "      <td>Bachelors</td>\n",
       "      <td>13</td>\n",
       "      <td>Married-civ-spouse</td>\n",
       "      <td>Prof-specialty</td>\n",
       "      <td>Wife</td>\n",
       "      <td>Black</td>\n",
       "      <td>Female</td>\n",
       "      <td>0</td>\n",
       "      <td>0</td>\n",
       "      <td>40</td>\n",
       "      <td>Cuba</td>\n",
       "      <td>&lt;=50K</td>\n",
       "    </tr>\n",
       "  </tbody>\n",
       "</table>\n",
       "</div>"
      ],
      "text/plain": [
       "   age          workclass   education  educationno        maritalstatus  \\\n",
       "0   39          State-gov   Bachelors           13        Never-married   \n",
       "1   50   Self-emp-not-inc   Bachelors           13   Married-civ-spouse   \n",
       "2   38            Private     HS-grad            9             Divorced   \n",
       "3   53            Private        11th            7   Married-civ-spouse   \n",
       "4   28            Private   Bachelors           13   Married-civ-spouse   \n",
       "\n",
       "           occupation    relationship    race      sex  capitalgain  \\\n",
       "0        Adm-clerical   Not-in-family   White     Male         2174   \n",
       "1     Exec-managerial         Husband   White     Male            0   \n",
       "2   Handlers-cleaners   Not-in-family   White     Male            0   \n",
       "3   Handlers-cleaners         Husband   Black     Male            0   \n",
       "4      Prof-specialty            Wife   Black   Female            0   \n",
       "\n",
       "   capitalloss  hoursperweek          native  Salary  \n",
       "0            0            40   United-States   <=50K  \n",
       "1            0            13   United-States   <=50K  \n",
       "2            0            40   United-States   <=50K  \n",
       "3            0            40   United-States   <=50K  \n",
       "4            0            40            Cuba   <=50K  "
      ]
     },
     "execution_count": 3,
     "metadata": {},
     "output_type": "execute_result"
    }
   ],
   "source": [
    "dataset_Train.head()"
   ]
  },
  {
   "cell_type": "code",
   "execution_count": 4,
   "id": "7d11a552",
   "metadata": {},
   "outputs": [
    {
     "data": {
      "text/html": [
       "<div>\n",
       "<style scoped>\n",
       "    .dataframe tbody tr th:only-of-type {\n",
       "        vertical-align: middle;\n",
       "    }\n",
       "\n",
       "    .dataframe tbody tr th {\n",
       "        vertical-align: top;\n",
       "    }\n",
       "\n",
       "    .dataframe thead th {\n",
       "        text-align: right;\n",
       "    }\n",
       "</style>\n",
       "<table border=\"1\" class=\"dataframe\">\n",
       "  <thead>\n",
       "    <tr style=\"text-align: right;\">\n",
       "      <th></th>\n",
       "      <th>age</th>\n",
       "      <th>workclass</th>\n",
       "      <th>education</th>\n",
       "      <th>educationno</th>\n",
       "      <th>maritalstatus</th>\n",
       "      <th>occupation</th>\n",
       "      <th>relationship</th>\n",
       "      <th>race</th>\n",
       "      <th>sex</th>\n",
       "      <th>capitalgain</th>\n",
       "      <th>capitalloss</th>\n",
       "      <th>hoursperweek</th>\n",
       "      <th>native</th>\n",
       "      <th>Salary</th>\n",
       "    </tr>\n",
       "  </thead>\n",
       "  <tbody>\n",
       "    <tr>\n",
       "      <th>0</th>\n",
       "      <td>25</td>\n",
       "      <td>Private</td>\n",
       "      <td>11th</td>\n",
       "      <td>7</td>\n",
       "      <td>Never-married</td>\n",
       "      <td>Machine-op-inspct</td>\n",
       "      <td>Own-child</td>\n",
       "      <td>Black</td>\n",
       "      <td>Male</td>\n",
       "      <td>0</td>\n",
       "      <td>0</td>\n",
       "      <td>40</td>\n",
       "      <td>United-States</td>\n",
       "      <td>&lt;=50K</td>\n",
       "    </tr>\n",
       "    <tr>\n",
       "      <th>1</th>\n",
       "      <td>38</td>\n",
       "      <td>Private</td>\n",
       "      <td>HS-grad</td>\n",
       "      <td>9</td>\n",
       "      <td>Married-civ-spouse</td>\n",
       "      <td>Farming-fishing</td>\n",
       "      <td>Husband</td>\n",
       "      <td>White</td>\n",
       "      <td>Male</td>\n",
       "      <td>0</td>\n",
       "      <td>0</td>\n",
       "      <td>50</td>\n",
       "      <td>United-States</td>\n",
       "      <td>&lt;=50K</td>\n",
       "    </tr>\n",
       "    <tr>\n",
       "      <th>2</th>\n",
       "      <td>28</td>\n",
       "      <td>Local-gov</td>\n",
       "      <td>Assoc-acdm</td>\n",
       "      <td>12</td>\n",
       "      <td>Married-civ-spouse</td>\n",
       "      <td>Protective-serv</td>\n",
       "      <td>Husband</td>\n",
       "      <td>White</td>\n",
       "      <td>Male</td>\n",
       "      <td>0</td>\n",
       "      <td>0</td>\n",
       "      <td>40</td>\n",
       "      <td>United-States</td>\n",
       "      <td>&gt;50K</td>\n",
       "    </tr>\n",
       "    <tr>\n",
       "      <th>3</th>\n",
       "      <td>44</td>\n",
       "      <td>Private</td>\n",
       "      <td>Some-college</td>\n",
       "      <td>10</td>\n",
       "      <td>Married-civ-spouse</td>\n",
       "      <td>Machine-op-inspct</td>\n",
       "      <td>Husband</td>\n",
       "      <td>Black</td>\n",
       "      <td>Male</td>\n",
       "      <td>7688</td>\n",
       "      <td>0</td>\n",
       "      <td>40</td>\n",
       "      <td>United-States</td>\n",
       "      <td>&gt;50K</td>\n",
       "    </tr>\n",
       "    <tr>\n",
       "      <th>4</th>\n",
       "      <td>34</td>\n",
       "      <td>Private</td>\n",
       "      <td>10th</td>\n",
       "      <td>6</td>\n",
       "      <td>Never-married</td>\n",
       "      <td>Other-service</td>\n",
       "      <td>Not-in-family</td>\n",
       "      <td>White</td>\n",
       "      <td>Male</td>\n",
       "      <td>0</td>\n",
       "      <td>0</td>\n",
       "      <td>30</td>\n",
       "      <td>United-States</td>\n",
       "      <td>&lt;=50K</td>\n",
       "    </tr>\n",
       "  </tbody>\n",
       "</table>\n",
       "</div>"
      ],
      "text/plain": [
       "   age   workclass      education  educationno        maritalstatus  \\\n",
       "0   25     Private           11th            7        Never-married   \n",
       "1   38     Private        HS-grad            9   Married-civ-spouse   \n",
       "2   28   Local-gov     Assoc-acdm           12   Married-civ-spouse   \n",
       "3   44     Private   Some-college           10   Married-civ-spouse   \n",
       "4   34     Private           10th            6        Never-married   \n",
       "\n",
       "           occupation    relationship    race    sex  capitalgain  \\\n",
       "0   Machine-op-inspct       Own-child   Black   Male            0   \n",
       "1     Farming-fishing         Husband   White   Male            0   \n",
       "2     Protective-serv         Husband   White   Male            0   \n",
       "3   Machine-op-inspct         Husband   Black   Male         7688   \n",
       "4       Other-service   Not-in-family   White   Male            0   \n",
       "\n",
       "   capitalloss  hoursperweek          native  Salary  \n",
       "0            0            40   United-States   <=50K  \n",
       "1            0            50   United-States   <=50K  \n",
       "2            0            40   United-States    >50K  \n",
       "3            0            40   United-States    >50K  \n",
       "4            0            30   United-States   <=50K  "
      ]
     },
     "execution_count": 4,
     "metadata": {},
     "output_type": "execute_result"
    }
   ],
   "source": [
    "dataset_Test.head()"
   ]
  },
  {
   "cell_type": "markdown",
   "id": "9c922f2a",
   "metadata": {},
   "source": [
    "# EDA"
   ]
  },
  {
   "cell_type": "code",
   "execution_count": 5,
   "id": "18dac5c1",
   "metadata": {},
   "outputs": [
    {
     "data": {
      "text/plain": [
       "age              0\n",
       "workclass        0\n",
       "education        0\n",
       "educationno      0\n",
       "maritalstatus    0\n",
       "occupation       0\n",
       "relationship     0\n",
       "race             0\n",
       "sex              0\n",
       "capitalgain      0\n",
       "capitalloss      0\n",
       "hoursperweek     0\n",
       "native           0\n",
       "Salary           0\n",
       "dtype: int64"
      ]
     },
     "execution_count": 5,
     "metadata": {},
     "output_type": "execute_result"
    }
   ],
   "source": [
    "dataset_Train.isnull().sum()"
   ]
  },
  {
   "cell_type": "code",
   "execution_count": 6,
   "id": "9a3fa759",
   "metadata": {},
   "outputs": [
    {
     "name": "stdout",
     "output_type": "stream",
     "text": [
      "<class 'pandas.core.frame.DataFrame'>\n",
      "RangeIndex: 30161 entries, 0 to 30160\n",
      "Data columns (total 14 columns):\n",
      " #   Column         Non-Null Count  Dtype \n",
      "---  ------         --------------  ----- \n",
      " 0   age            30161 non-null  int64 \n",
      " 1   workclass      30161 non-null  object\n",
      " 2   education      30161 non-null  object\n",
      " 3   educationno    30161 non-null  int64 \n",
      " 4   maritalstatus  30161 non-null  object\n",
      " 5   occupation     30161 non-null  object\n",
      " 6   relationship   30161 non-null  object\n",
      " 7   race           30161 non-null  object\n",
      " 8   sex            30161 non-null  object\n",
      " 9   capitalgain    30161 non-null  int64 \n",
      " 10  capitalloss    30161 non-null  int64 \n",
      " 11  hoursperweek   30161 non-null  int64 \n",
      " 12  native         30161 non-null  object\n",
      " 13  Salary         30161 non-null  object\n",
      "dtypes: int64(5), object(9)\n",
      "memory usage: 3.2+ MB\n"
     ]
    }
   ],
   "source": [
    "dataset_Train.info()"
   ]
  },
  {
   "cell_type": "code",
   "execution_count": 7,
   "id": "86ee7e8d",
   "metadata": {},
   "outputs": [
    {
     "name": "stdout",
     "output_type": "stream",
     "text": [
      "<class 'pandas.core.frame.DataFrame'>\n",
      "RangeIndex: 15060 entries, 0 to 15059\n",
      "Data columns (total 14 columns):\n",
      " #   Column         Non-Null Count  Dtype \n",
      "---  ------         --------------  ----- \n",
      " 0   age            15060 non-null  int64 \n",
      " 1   workclass      15060 non-null  object\n",
      " 2   education      15060 non-null  object\n",
      " 3   educationno    15060 non-null  int64 \n",
      " 4   maritalstatus  15060 non-null  object\n",
      " 5   occupation     15060 non-null  object\n",
      " 6   relationship   15060 non-null  object\n",
      " 7   race           15060 non-null  object\n",
      " 8   sex            15060 non-null  object\n",
      " 9   capitalgain    15060 non-null  int64 \n",
      " 10  capitalloss    15060 non-null  int64 \n",
      " 11  hoursperweek   15060 non-null  int64 \n",
      " 12  native         15060 non-null  object\n",
      " 13  Salary         15060 non-null  object\n",
      "dtypes: int64(5), object(9)\n",
      "memory usage: 1.6+ MB\n"
     ]
    }
   ],
   "source": [
    "dataset_Test.info()"
   ]
  },
  {
   "cell_type": "code",
   "execution_count": 8,
   "id": "246d8218",
   "metadata": {},
   "outputs": [
    {
     "data": {
      "text/plain": [
       "age              0\n",
       "workclass        0\n",
       "education        0\n",
       "educationno      0\n",
       "maritalstatus    0\n",
       "occupation       0\n",
       "relationship     0\n",
       "race             0\n",
       "sex              0\n",
       "capitalgain      0\n",
       "capitalloss      0\n",
       "hoursperweek     0\n",
       "native           0\n",
       "Salary           0\n",
       "dtype: int64"
      ]
     },
     "execution_count": 8,
     "metadata": {},
     "output_type": "execute_result"
    }
   ],
   "source": [
    "dataset_Test.isnull().sum()"
   ]
  },
  {
   "cell_type": "code",
   "execution_count": 9,
   "id": "92cfdfd5",
   "metadata": {},
   "outputs": [],
   "source": [
    "from sklearn.preprocessing import LabelEncoder\n",
    "from sklearn.model_selection import train_test_split"
   ]
  },
  {
   "cell_type": "code",
   "execution_count": 10,
   "id": "029308f0",
   "metadata": {},
   "outputs": [],
   "source": [
    "# Preprocessing the data to convert categorical variables into numarical variables\n",
    "columns=['workclass','education','maritalstatus','occupation','relationship','race','sex','native']\n",
    "le=LabelEncoder()\n",
    "for i in columns:\n",
    "    dataset_Train[i]=le.fit_transform(dataset_Train[i])\n",
    "    dataset_Test[i]=le.fit_transform(dataset_Test[i])"
   ]
  },
  {
   "cell_type": "code",
   "execution_count": 11,
   "id": "fc4de983",
   "metadata": {},
   "outputs": [
    {
     "data": {
      "text/html": [
       "<div>\n",
       "<style scoped>\n",
       "    .dataframe tbody tr th:only-of-type {\n",
       "        vertical-align: middle;\n",
       "    }\n",
       "\n",
       "    .dataframe tbody tr th {\n",
       "        vertical-align: top;\n",
       "    }\n",
       "\n",
       "    .dataframe thead th {\n",
       "        text-align: right;\n",
       "    }\n",
       "</style>\n",
       "<table border=\"1\" class=\"dataframe\">\n",
       "  <thead>\n",
       "    <tr style=\"text-align: right;\">\n",
       "      <th></th>\n",
       "      <th>age</th>\n",
       "      <th>workclass</th>\n",
       "      <th>education</th>\n",
       "      <th>educationno</th>\n",
       "      <th>maritalstatus</th>\n",
       "      <th>occupation</th>\n",
       "      <th>relationship</th>\n",
       "      <th>race</th>\n",
       "      <th>sex</th>\n",
       "      <th>capitalgain</th>\n",
       "      <th>capitalloss</th>\n",
       "      <th>hoursperweek</th>\n",
       "      <th>native</th>\n",
       "      <th>Salary</th>\n",
       "    </tr>\n",
       "  </thead>\n",
       "  <tbody>\n",
       "    <tr>\n",
       "      <th>0</th>\n",
       "      <td>39</td>\n",
       "      <td>5</td>\n",
       "      <td>9</td>\n",
       "      <td>13</td>\n",
       "      <td>4</td>\n",
       "      <td>0</td>\n",
       "      <td>1</td>\n",
       "      <td>4</td>\n",
       "      <td>1</td>\n",
       "      <td>2174</td>\n",
       "      <td>0</td>\n",
       "      <td>40</td>\n",
       "      <td>37</td>\n",
       "      <td>&lt;=50K</td>\n",
       "    </tr>\n",
       "    <tr>\n",
       "      <th>1</th>\n",
       "      <td>50</td>\n",
       "      <td>4</td>\n",
       "      <td>9</td>\n",
       "      <td>13</td>\n",
       "      <td>2</td>\n",
       "      <td>3</td>\n",
       "      <td>0</td>\n",
       "      <td>4</td>\n",
       "      <td>1</td>\n",
       "      <td>0</td>\n",
       "      <td>0</td>\n",
       "      <td>13</td>\n",
       "      <td>37</td>\n",
       "      <td>&lt;=50K</td>\n",
       "    </tr>\n",
       "    <tr>\n",
       "      <th>2</th>\n",
       "      <td>38</td>\n",
       "      <td>2</td>\n",
       "      <td>11</td>\n",
       "      <td>9</td>\n",
       "      <td>0</td>\n",
       "      <td>5</td>\n",
       "      <td>1</td>\n",
       "      <td>4</td>\n",
       "      <td>1</td>\n",
       "      <td>0</td>\n",
       "      <td>0</td>\n",
       "      <td>40</td>\n",
       "      <td>37</td>\n",
       "      <td>&lt;=50K</td>\n",
       "    </tr>\n",
       "    <tr>\n",
       "      <th>3</th>\n",
       "      <td>53</td>\n",
       "      <td>2</td>\n",
       "      <td>1</td>\n",
       "      <td>7</td>\n",
       "      <td>2</td>\n",
       "      <td>5</td>\n",
       "      <td>0</td>\n",
       "      <td>2</td>\n",
       "      <td>1</td>\n",
       "      <td>0</td>\n",
       "      <td>0</td>\n",
       "      <td>40</td>\n",
       "      <td>37</td>\n",
       "      <td>&lt;=50K</td>\n",
       "    </tr>\n",
       "    <tr>\n",
       "      <th>4</th>\n",
       "      <td>28</td>\n",
       "      <td>2</td>\n",
       "      <td>9</td>\n",
       "      <td>13</td>\n",
       "      <td>2</td>\n",
       "      <td>9</td>\n",
       "      <td>5</td>\n",
       "      <td>2</td>\n",
       "      <td>0</td>\n",
       "      <td>0</td>\n",
       "      <td>0</td>\n",
       "      <td>40</td>\n",
       "      <td>4</td>\n",
       "      <td>&lt;=50K</td>\n",
       "    </tr>\n",
       "  </tbody>\n",
       "</table>\n",
       "</div>"
      ],
      "text/plain": [
       "   age  workclass  education  educationno  maritalstatus  occupation  \\\n",
       "0   39          5          9           13              4           0   \n",
       "1   50          4          9           13              2           3   \n",
       "2   38          2         11            9              0           5   \n",
       "3   53          2          1            7              2           5   \n",
       "4   28          2          9           13              2           9   \n",
       "\n",
       "   relationship  race  sex  capitalgain  capitalloss  hoursperweek  native  \\\n",
       "0             1     4    1         2174            0            40      37   \n",
       "1             0     4    1            0            0            13      37   \n",
       "2             1     4    1            0            0            40      37   \n",
       "3             0     2    1            0            0            40      37   \n",
       "4             5     2    0            0            0            40       4   \n",
       "\n",
       "   Salary  \n",
       "0   <=50K  \n",
       "1   <=50K  \n",
       "2   <=50K  \n",
       "3   <=50K  \n",
       "4   <=50K  "
      ]
     },
     "execution_count": 11,
     "metadata": {},
     "output_type": "execute_result"
    }
   ],
   "source": [
    "dataset_Train.head()"
   ]
  },
  {
   "cell_type": "code",
   "execution_count": 12,
   "id": "582c2e94",
   "metadata": {},
   "outputs": [
    {
     "data": {
      "text/html": [
       "<div>\n",
       "<style scoped>\n",
       "    .dataframe tbody tr th:only-of-type {\n",
       "        vertical-align: middle;\n",
       "    }\n",
       "\n",
       "    .dataframe tbody tr th {\n",
       "        vertical-align: top;\n",
       "    }\n",
       "\n",
       "    .dataframe thead th {\n",
       "        text-align: right;\n",
       "    }\n",
       "</style>\n",
       "<table border=\"1\" class=\"dataframe\">\n",
       "  <thead>\n",
       "    <tr style=\"text-align: right;\">\n",
       "      <th></th>\n",
       "      <th>age</th>\n",
       "      <th>workclass</th>\n",
       "      <th>education</th>\n",
       "      <th>educationno</th>\n",
       "      <th>maritalstatus</th>\n",
       "      <th>occupation</th>\n",
       "      <th>relationship</th>\n",
       "      <th>race</th>\n",
       "      <th>sex</th>\n",
       "      <th>capitalgain</th>\n",
       "      <th>capitalloss</th>\n",
       "      <th>hoursperweek</th>\n",
       "      <th>native</th>\n",
       "      <th>Salary</th>\n",
       "    </tr>\n",
       "  </thead>\n",
       "  <tbody>\n",
       "    <tr>\n",
       "      <th>0</th>\n",
       "      <td>25</td>\n",
       "      <td>2</td>\n",
       "      <td>1</td>\n",
       "      <td>7</td>\n",
       "      <td>4</td>\n",
       "      <td>6</td>\n",
       "      <td>3</td>\n",
       "      <td>2</td>\n",
       "      <td>1</td>\n",
       "      <td>0</td>\n",
       "      <td>0</td>\n",
       "      <td>40</td>\n",
       "      <td>37</td>\n",
       "      <td>&lt;=50K</td>\n",
       "    </tr>\n",
       "    <tr>\n",
       "      <th>1</th>\n",
       "      <td>38</td>\n",
       "      <td>2</td>\n",
       "      <td>11</td>\n",
       "      <td>9</td>\n",
       "      <td>2</td>\n",
       "      <td>4</td>\n",
       "      <td>0</td>\n",
       "      <td>4</td>\n",
       "      <td>1</td>\n",
       "      <td>0</td>\n",
       "      <td>0</td>\n",
       "      <td>50</td>\n",
       "      <td>37</td>\n",
       "      <td>&lt;=50K</td>\n",
       "    </tr>\n",
       "    <tr>\n",
       "      <th>2</th>\n",
       "      <td>28</td>\n",
       "      <td>1</td>\n",
       "      <td>7</td>\n",
       "      <td>12</td>\n",
       "      <td>2</td>\n",
       "      <td>10</td>\n",
       "      <td>0</td>\n",
       "      <td>4</td>\n",
       "      <td>1</td>\n",
       "      <td>0</td>\n",
       "      <td>0</td>\n",
       "      <td>40</td>\n",
       "      <td>37</td>\n",
       "      <td>&gt;50K</td>\n",
       "    </tr>\n",
       "    <tr>\n",
       "      <th>3</th>\n",
       "      <td>44</td>\n",
       "      <td>2</td>\n",
       "      <td>15</td>\n",
       "      <td>10</td>\n",
       "      <td>2</td>\n",
       "      <td>6</td>\n",
       "      <td>0</td>\n",
       "      <td>2</td>\n",
       "      <td>1</td>\n",
       "      <td>7688</td>\n",
       "      <td>0</td>\n",
       "      <td>40</td>\n",
       "      <td>37</td>\n",
       "      <td>&gt;50K</td>\n",
       "    </tr>\n",
       "    <tr>\n",
       "      <th>4</th>\n",
       "      <td>34</td>\n",
       "      <td>2</td>\n",
       "      <td>0</td>\n",
       "      <td>6</td>\n",
       "      <td>4</td>\n",
       "      <td>7</td>\n",
       "      <td>1</td>\n",
       "      <td>4</td>\n",
       "      <td>1</td>\n",
       "      <td>0</td>\n",
       "      <td>0</td>\n",
       "      <td>30</td>\n",
       "      <td>37</td>\n",
       "      <td>&lt;=50K</td>\n",
       "    </tr>\n",
       "  </tbody>\n",
       "</table>\n",
       "</div>"
      ],
      "text/plain": [
       "   age  workclass  education  educationno  maritalstatus  occupation  \\\n",
       "0   25          2          1            7              4           6   \n",
       "1   38          2         11            9              2           4   \n",
       "2   28          1          7           12              2          10   \n",
       "3   44          2         15           10              2           6   \n",
       "4   34          2          0            6              4           7   \n",
       "\n",
       "   relationship  race  sex  capitalgain  capitalloss  hoursperweek  native  \\\n",
       "0             3     2    1            0            0            40      37   \n",
       "1             0     4    1            0            0            50      37   \n",
       "2             0     4    1            0            0            40      37   \n",
       "3             0     2    1         7688            0            40      37   \n",
       "4             1     4    1            0            0            30      37   \n",
       "\n",
       "   Salary  \n",
       "0   <=50K  \n",
       "1   <=50K  \n",
       "2    >50K  \n",
       "3    >50K  \n",
       "4   <=50K  "
      ]
     },
     "execution_count": 12,
     "metadata": {},
     "output_type": "execute_result"
    }
   ],
   "source": [
    "dataset_Test.head()"
   ]
  },
  {
   "cell_type": "code",
   "execution_count": 13,
   "id": "e1e54369",
   "metadata": {},
   "outputs": [
    {
     "data": {
      "text/html": [
       "<div>\n",
       "<style scoped>\n",
       "    .dataframe tbody tr th:only-of-type {\n",
       "        vertical-align: middle;\n",
       "    }\n",
       "\n",
       "    .dataframe tbody tr th {\n",
       "        vertical-align: top;\n",
       "    }\n",
       "\n",
       "    .dataframe thead th {\n",
       "        text-align: right;\n",
       "    }\n",
       "</style>\n",
       "<table border=\"1\" class=\"dataframe\">\n",
       "  <thead>\n",
       "    <tr style=\"text-align: right;\">\n",
       "      <th></th>\n",
       "      <th>age</th>\n",
       "      <th>workclass</th>\n",
       "      <th>education</th>\n",
       "      <th>educationno</th>\n",
       "      <th>maritalstatus</th>\n",
       "      <th>occupation</th>\n",
       "      <th>relationship</th>\n",
       "      <th>race</th>\n",
       "      <th>sex</th>\n",
       "      <th>capitalgain</th>\n",
       "      <th>capitalloss</th>\n",
       "      <th>hoursperweek</th>\n",
       "      <th>native</th>\n",
       "    </tr>\n",
       "  </thead>\n",
       "  <tbody>\n",
       "    <tr>\n",
       "      <th>age</th>\n",
       "      <td>1.000000</td>\n",
       "      <td>0.080537</td>\n",
       "      <td>-0.001091</td>\n",
       "      <td>0.043525</td>\n",
       "      <td>-0.276363</td>\n",
       "      <td>-0.005682</td>\n",
       "      <td>-0.246452</td>\n",
       "      <td>0.023380</td>\n",
       "      <td>0.081972</td>\n",
       "      <td>0.080152</td>\n",
       "      <td>0.060278</td>\n",
       "      <td>0.101598</td>\n",
       "      <td>-0.001548</td>\n",
       "    </tr>\n",
       "    <tr>\n",
       "      <th>workclass</th>\n",
       "      <td>0.080537</td>\n",
       "      <td>1.000000</td>\n",
       "      <td>0.017864</td>\n",
       "      <td>0.037833</td>\n",
       "      <td>-0.034235</td>\n",
       "      <td>0.015572</td>\n",
       "      <td>-0.067414</td>\n",
       "      <td>0.044734</td>\n",
       "      <td>0.074966</td>\n",
       "      <td>0.035349</td>\n",
       "      <td>0.007244</td>\n",
       "      <td>0.050723</td>\n",
       "      <td>0.007598</td>\n",
       "    </tr>\n",
       "    <tr>\n",
       "      <th>education</th>\n",
       "      <td>-0.001091</td>\n",
       "      <td>0.017864</td>\n",
       "      <td>1.000000</td>\n",
       "      <td>0.345420</td>\n",
       "      <td>-0.040704</td>\n",
       "      <td>-0.038213</td>\n",
       "      <td>-0.012732</td>\n",
       "      <td>0.011139</td>\n",
       "      <td>-0.027831</td>\n",
       "      <td>0.030582</td>\n",
       "      <td>0.014822</td>\n",
       "      <td>0.059892</td>\n",
       "      <td>0.079715</td>\n",
       "    </tr>\n",
       "    <tr>\n",
       "      <th>educationno</th>\n",
       "      <td>0.043525</td>\n",
       "      <td>0.037833</td>\n",
       "      <td>0.345420</td>\n",
       "      <td>1.000000</td>\n",
       "      <td>-0.063419</td>\n",
       "      <td>0.087717</td>\n",
       "      <td>-0.091935</td>\n",
       "      <td>0.032805</td>\n",
       "      <td>0.006155</td>\n",
       "      <td>0.124416</td>\n",
       "      <td>0.079691</td>\n",
       "      <td>0.152522</td>\n",
       "      <td>0.092625</td>\n",
       "    </tr>\n",
       "    <tr>\n",
       "      <th>maritalstatus</th>\n",
       "      <td>-0.276363</td>\n",
       "      <td>-0.034235</td>\n",
       "      <td>-0.040704</td>\n",
       "      <td>-0.063419</td>\n",
       "      <td>1.000000</td>\n",
       "      <td>0.022655</td>\n",
       "      <td>0.177955</td>\n",
       "      <td>-0.068641</td>\n",
       "      <td>-0.119774</td>\n",
       "      <td>-0.042414</td>\n",
       "      <td>-0.035385</td>\n",
       "      <td>-0.189004</td>\n",
       "      <td>-0.026057</td>\n",
       "    </tr>\n",
       "    <tr>\n",
       "      <th>occupation</th>\n",
       "      <td>-0.005682</td>\n",
       "      <td>0.015572</td>\n",
       "      <td>-0.038213</td>\n",
       "      <td>0.087717</td>\n",
       "      <td>0.022655</td>\n",
       "      <td>1.000000</td>\n",
       "      <td>-0.053727</td>\n",
       "      <td>0.000717</td>\n",
       "      <td>0.062316</td>\n",
       "      <td>0.022162</td>\n",
       "      <td>0.014612</td>\n",
       "      <td>0.018365</td>\n",
       "      <td>-0.003298</td>\n",
       "    </tr>\n",
       "    <tr>\n",
       "      <th>relationship</th>\n",
       "      <td>-0.246452</td>\n",
       "      <td>-0.067414</td>\n",
       "      <td>-0.012732</td>\n",
       "      <td>-0.091935</td>\n",
       "      <td>0.177955</td>\n",
       "      <td>-0.053727</td>\n",
       "      <td>1.000000</td>\n",
       "      <td>-0.117148</td>\n",
       "      <td>-0.584881</td>\n",
       "      <td>-0.058257</td>\n",
       "      <td>-0.063659</td>\n",
       "      <td>-0.257850</td>\n",
       "      <td>-0.010661</td>\n",
       "    </tr>\n",
       "    <tr>\n",
       "      <th>race</th>\n",
       "      <td>0.023380</td>\n",
       "      <td>0.044734</td>\n",
       "      <td>0.011139</td>\n",
       "      <td>0.032805</td>\n",
       "      <td>-0.068641</td>\n",
       "      <td>0.000717</td>\n",
       "      <td>-0.117148</td>\n",
       "      <td>1.000000</td>\n",
       "      <td>0.089207</td>\n",
       "      <td>0.014355</td>\n",
       "      <td>0.023461</td>\n",
       "      <td>0.048533</td>\n",
       "      <td>0.126507</td>\n",
       "    </tr>\n",
       "    <tr>\n",
       "      <th>sex</th>\n",
       "      <td>0.081972</td>\n",
       "      <td>0.074966</td>\n",
       "      <td>-0.027831</td>\n",
       "      <td>0.006155</td>\n",
       "      <td>-0.119774</td>\n",
       "      <td>0.062316</td>\n",
       "      <td>-0.584881</td>\n",
       "      <td>0.089207</td>\n",
       "      <td>1.000000</td>\n",
       "      <td>0.048809</td>\n",
       "      <td>0.047285</td>\n",
       "      <td>0.231272</td>\n",
       "      <td>0.000063</td>\n",
       "    </tr>\n",
       "    <tr>\n",
       "      <th>capitalgain</th>\n",
       "      <td>0.080152</td>\n",
       "      <td>0.035349</td>\n",
       "      <td>0.030582</td>\n",
       "      <td>0.124416</td>\n",
       "      <td>-0.042414</td>\n",
       "      <td>0.022162</td>\n",
       "      <td>-0.058257</td>\n",
       "      <td>0.014355</td>\n",
       "      <td>0.048809</td>\n",
       "      <td>1.000000</td>\n",
       "      <td>-0.032218</td>\n",
       "      <td>0.080431</td>\n",
       "      <td>0.008513</td>\n",
       "    </tr>\n",
       "    <tr>\n",
       "      <th>capitalloss</th>\n",
       "      <td>0.060278</td>\n",
       "      <td>0.007244</td>\n",
       "      <td>0.014822</td>\n",
       "      <td>0.079691</td>\n",
       "      <td>-0.035385</td>\n",
       "      <td>0.014612</td>\n",
       "      <td>-0.063659</td>\n",
       "      <td>0.023461</td>\n",
       "      <td>0.047285</td>\n",
       "      <td>-0.032218</td>\n",
       "      <td>1.000000</td>\n",
       "      <td>0.052454</td>\n",
       "      <td>0.010193</td>\n",
       "    </tr>\n",
       "    <tr>\n",
       "      <th>hoursperweek</th>\n",
       "      <td>0.101598</td>\n",
       "      <td>0.050723</td>\n",
       "      <td>0.059892</td>\n",
       "      <td>0.152522</td>\n",
       "      <td>-0.189004</td>\n",
       "      <td>0.018365</td>\n",
       "      <td>-0.257850</td>\n",
       "      <td>0.048533</td>\n",
       "      <td>0.231272</td>\n",
       "      <td>0.080431</td>\n",
       "      <td>0.052454</td>\n",
       "      <td>1.000000</td>\n",
       "      <td>0.008429</td>\n",
       "    </tr>\n",
       "    <tr>\n",
       "      <th>native</th>\n",
       "      <td>-0.001548</td>\n",
       "      <td>0.007598</td>\n",
       "      <td>0.079715</td>\n",
       "      <td>0.092625</td>\n",
       "      <td>-0.026057</td>\n",
       "      <td>-0.003298</td>\n",
       "      <td>-0.010661</td>\n",
       "      <td>0.126507</td>\n",
       "      <td>0.000063</td>\n",
       "      <td>0.008513</td>\n",
       "      <td>0.010193</td>\n",
       "      <td>0.008429</td>\n",
       "      <td>1.000000</td>\n",
       "    </tr>\n",
       "  </tbody>\n",
       "</table>\n",
       "</div>"
      ],
      "text/plain": [
       "                    age  workclass  education  educationno  maritalstatus  \\\n",
       "age            1.000000   0.080537  -0.001091     0.043525      -0.276363   \n",
       "workclass      0.080537   1.000000   0.017864     0.037833      -0.034235   \n",
       "education     -0.001091   0.017864   1.000000     0.345420      -0.040704   \n",
       "educationno    0.043525   0.037833   0.345420     1.000000      -0.063419   \n",
       "maritalstatus -0.276363  -0.034235  -0.040704    -0.063419       1.000000   \n",
       "occupation    -0.005682   0.015572  -0.038213     0.087717       0.022655   \n",
       "relationship  -0.246452  -0.067414  -0.012732    -0.091935       0.177955   \n",
       "race           0.023380   0.044734   0.011139     0.032805      -0.068641   \n",
       "sex            0.081972   0.074966  -0.027831     0.006155      -0.119774   \n",
       "capitalgain    0.080152   0.035349   0.030582     0.124416      -0.042414   \n",
       "capitalloss    0.060278   0.007244   0.014822     0.079691      -0.035385   \n",
       "hoursperweek   0.101598   0.050723   0.059892     0.152522      -0.189004   \n",
       "native        -0.001548   0.007598   0.079715     0.092625      -0.026057   \n",
       "\n",
       "               occupation  relationship      race       sex  capitalgain  \\\n",
       "age             -0.005682     -0.246452  0.023380  0.081972     0.080152   \n",
       "workclass        0.015572     -0.067414  0.044734  0.074966     0.035349   \n",
       "education       -0.038213     -0.012732  0.011139 -0.027831     0.030582   \n",
       "educationno      0.087717     -0.091935  0.032805  0.006155     0.124416   \n",
       "maritalstatus    0.022655      0.177955 -0.068641 -0.119774    -0.042414   \n",
       "occupation       1.000000     -0.053727  0.000717  0.062316     0.022162   \n",
       "relationship    -0.053727      1.000000 -0.117148 -0.584881    -0.058257   \n",
       "race             0.000717     -0.117148  1.000000  0.089207     0.014355   \n",
       "sex              0.062316     -0.584881  0.089207  1.000000     0.048809   \n",
       "capitalgain      0.022162     -0.058257  0.014355  0.048809     1.000000   \n",
       "capitalloss      0.014612     -0.063659  0.023461  0.047285    -0.032218   \n",
       "hoursperweek     0.018365     -0.257850  0.048533  0.231272     0.080431   \n",
       "native          -0.003298     -0.010661  0.126507  0.000063     0.008513   \n",
       "\n",
       "               capitalloss  hoursperweek    native  \n",
       "age               0.060278      0.101598 -0.001548  \n",
       "workclass         0.007244      0.050723  0.007598  \n",
       "education         0.014822      0.059892  0.079715  \n",
       "educationno       0.079691      0.152522  0.092625  \n",
       "maritalstatus    -0.035385     -0.189004 -0.026057  \n",
       "occupation        0.014612      0.018365 -0.003298  \n",
       "relationship     -0.063659     -0.257850 -0.010661  \n",
       "race              0.023461      0.048533  0.126507  \n",
       "sex               0.047285      0.231272  0.000063  \n",
       "capitalgain      -0.032218      0.080431  0.008513  \n",
       "capitalloss       1.000000      0.052454  0.010193  \n",
       "hoursperweek      0.052454      1.000000  0.008429  \n",
       "native            0.010193      0.008429  1.000000  "
      ]
     },
     "execution_count": 13,
     "metadata": {},
     "output_type": "execute_result"
    }
   ],
   "source": [
    "dataset_Train.corr()"
   ]
  },
  {
   "cell_type": "code",
   "execution_count": 14,
   "id": "46ada266",
   "metadata": {},
   "outputs": [
    {
     "data": {
      "text/html": [
       "<div>\n",
       "<style scoped>\n",
       "    .dataframe tbody tr th:only-of-type {\n",
       "        vertical-align: middle;\n",
       "    }\n",
       "\n",
       "    .dataframe tbody tr th {\n",
       "        vertical-align: top;\n",
       "    }\n",
       "\n",
       "    .dataframe thead th {\n",
       "        text-align: right;\n",
       "    }\n",
       "</style>\n",
       "<table border=\"1\" class=\"dataframe\">\n",
       "  <thead>\n",
       "    <tr style=\"text-align: right;\">\n",
       "      <th></th>\n",
       "      <th>age</th>\n",
       "      <th>workclass</th>\n",
       "      <th>education</th>\n",
       "      <th>educationno</th>\n",
       "      <th>maritalstatus</th>\n",
       "      <th>occupation</th>\n",
       "      <th>relationship</th>\n",
       "      <th>race</th>\n",
       "      <th>sex</th>\n",
       "      <th>capitalgain</th>\n",
       "      <th>capitalloss</th>\n",
       "      <th>hoursperweek</th>\n",
       "      <th>native</th>\n",
       "    </tr>\n",
       "  </thead>\n",
       "  <tbody>\n",
       "    <tr>\n",
       "      <th>age</th>\n",
       "      <td>1.000000</td>\n",
       "      <td>0.096037</td>\n",
       "      <td>-0.007948</td>\n",
       "      <td>0.026123</td>\n",
       "      <td>-0.262577</td>\n",
       "      <td>-0.002214</td>\n",
       "      <td>-0.249701</td>\n",
       "      <td>0.024485</td>\n",
       "      <td>0.082265</td>\n",
       "      <td>0.078760</td>\n",
       "      <td>0.057745</td>\n",
       "      <td>0.102758</td>\n",
       "      <td>-0.005683</td>\n",
       "    </tr>\n",
       "    <tr>\n",
       "      <th>workclass</th>\n",
       "      <td>0.096037</td>\n",
       "      <td>1.000000</td>\n",
       "      <td>0.018005</td>\n",
       "      <td>0.046623</td>\n",
       "      <td>-0.031329</td>\n",
       "      <td>0.021271</td>\n",
       "      <td>-0.060235</td>\n",
       "      <td>0.059749</td>\n",
       "      <td>0.059161</td>\n",
       "      <td>0.032980</td>\n",
       "      <td>0.010242</td>\n",
       "      <td>0.052614</td>\n",
       "      <td>-0.003635</td>\n",
       "    </tr>\n",
       "    <tr>\n",
       "      <th>education</th>\n",
       "      <td>-0.007948</td>\n",
       "      <td>0.018005</td>\n",
       "      <td>1.000000</td>\n",
       "      <td>0.351486</td>\n",
       "      <td>-0.043117</td>\n",
       "      <td>-0.023999</td>\n",
       "      <td>-0.014227</td>\n",
       "      <td>0.012133</td>\n",
       "      <td>-0.026978</td>\n",
       "      <td>0.028626</td>\n",
       "      <td>0.020568</td>\n",
       "      <td>0.062892</td>\n",
       "      <td>0.077065</td>\n",
       "    </tr>\n",
       "    <tr>\n",
       "      <th>educationno</th>\n",
       "      <td>0.026123</td>\n",
       "      <td>0.046623</td>\n",
       "      <td>0.351486</td>\n",
       "      <td>1.000000</td>\n",
       "      <td>-0.068079</td>\n",
       "      <td>0.093643</td>\n",
       "      <td>-0.081413</td>\n",
       "      <td>0.029355</td>\n",
       "      <td>-0.002052</td>\n",
       "      <td>0.131750</td>\n",
       "      <td>0.085817</td>\n",
       "      <td>0.133691</td>\n",
       "      <td>0.097188</td>\n",
       "    </tr>\n",
       "    <tr>\n",
       "      <th>maritalstatus</th>\n",
       "      <td>-0.262577</td>\n",
       "      <td>-0.031329</td>\n",
       "      <td>-0.043117</td>\n",
       "      <td>-0.068079</td>\n",
       "      <td>1.000000</td>\n",
       "      <td>0.003854</td>\n",
       "      <td>0.185495</td>\n",
       "      <td>-0.073718</td>\n",
       "      <td>-0.120374</td>\n",
       "      <td>-0.042405</td>\n",
       "      <td>-0.034073</td>\n",
       "      <td>-0.171665</td>\n",
       "      <td>-0.016532</td>\n",
       "    </tr>\n",
       "    <tr>\n",
       "      <th>occupation</th>\n",
       "      <td>-0.002214</td>\n",
       "      <td>0.021271</td>\n",
       "      <td>-0.023999</td>\n",
       "      <td>0.093643</td>\n",
       "      <td>0.003854</td>\n",
       "      <td>1.000000</td>\n",
       "      <td>-0.047381</td>\n",
       "      <td>-0.001561</td>\n",
       "      <td>0.045244</td>\n",
       "      <td>0.014165</td>\n",
       "      <td>0.016580</td>\n",
       "      <td>0.011755</td>\n",
       "      <td>-0.001311</td>\n",
       "    </tr>\n",
       "    <tr>\n",
       "      <th>relationship</th>\n",
       "      <td>-0.249701</td>\n",
       "      <td>-0.060235</td>\n",
       "      <td>-0.014227</td>\n",
       "      <td>-0.081413</td>\n",
       "      <td>0.185495</td>\n",
       "      <td>-0.047381</td>\n",
       "      <td>1.000000</td>\n",
       "      <td>-0.121481</td>\n",
       "      <td>-0.579212</td>\n",
       "      <td>-0.054040</td>\n",
       "      <td>-0.048091</td>\n",
       "      <td>-0.261905</td>\n",
       "      <td>0.000500</td>\n",
       "    </tr>\n",
       "    <tr>\n",
       "      <th>race</th>\n",
       "      <td>0.024485</td>\n",
       "      <td>0.059749</td>\n",
       "      <td>0.012133</td>\n",
       "      <td>0.029355</td>\n",
       "      <td>-0.073718</td>\n",
       "      <td>-0.001561</td>\n",
       "      <td>-0.121481</td>\n",
       "      <td>1.000000</td>\n",
       "      <td>0.088450</td>\n",
       "      <td>0.013539</td>\n",
       "      <td>0.015799</td>\n",
       "      <td>0.037125</td>\n",
       "      <td>0.125514</td>\n",
       "    </tr>\n",
       "    <tr>\n",
       "      <th>sex</th>\n",
       "      <td>0.082265</td>\n",
       "      <td>0.059161</td>\n",
       "      <td>-0.026978</td>\n",
       "      <td>-0.002052</td>\n",
       "      <td>-0.120374</td>\n",
       "      <td>0.045244</td>\n",
       "      <td>-0.579212</td>\n",
       "      <td>0.088450</td>\n",
       "      <td>1.000000</td>\n",
       "      <td>0.044843</td>\n",
       "      <td>0.045360</td>\n",
       "      <td>0.231744</td>\n",
       "      <td>-0.014178</td>\n",
       "    </tr>\n",
       "    <tr>\n",
       "      <th>capitalgain</th>\n",
       "      <td>0.078760</td>\n",
       "      <td>0.032980</td>\n",
       "      <td>0.028626</td>\n",
       "      <td>0.131750</td>\n",
       "      <td>-0.042405</td>\n",
       "      <td>0.014165</td>\n",
       "      <td>-0.054040</td>\n",
       "      <td>0.013539</td>\n",
       "      <td>0.044843</td>\n",
       "      <td>1.000000</td>\n",
       "      <td>-0.031876</td>\n",
       "      <td>0.090501</td>\n",
       "      <td>0.005923</td>\n",
       "    </tr>\n",
       "    <tr>\n",
       "      <th>capitalloss</th>\n",
       "      <td>0.057745</td>\n",
       "      <td>0.010242</td>\n",
       "      <td>0.020568</td>\n",
       "      <td>0.085817</td>\n",
       "      <td>-0.034073</td>\n",
       "      <td>0.016580</td>\n",
       "      <td>-0.048091</td>\n",
       "      <td>0.015799</td>\n",
       "      <td>0.045360</td>\n",
       "      <td>-0.031876</td>\n",
       "      <td>1.000000</td>\n",
       "      <td>0.057712</td>\n",
       "      <td>-0.001008</td>\n",
       "    </tr>\n",
       "    <tr>\n",
       "      <th>hoursperweek</th>\n",
       "      <td>0.102758</td>\n",
       "      <td>0.052614</td>\n",
       "      <td>0.062892</td>\n",
       "      <td>0.133691</td>\n",
       "      <td>-0.171665</td>\n",
       "      <td>0.011755</td>\n",
       "      <td>-0.261905</td>\n",
       "      <td>0.037125</td>\n",
       "      <td>0.231744</td>\n",
       "      <td>0.090501</td>\n",
       "      <td>0.057712</td>\n",
       "      <td>1.000000</td>\n",
       "      <td>0.005877</td>\n",
       "    </tr>\n",
       "    <tr>\n",
       "      <th>native</th>\n",
       "      <td>-0.005683</td>\n",
       "      <td>-0.003635</td>\n",
       "      <td>0.077065</td>\n",
       "      <td>0.097188</td>\n",
       "      <td>-0.016532</td>\n",
       "      <td>-0.001311</td>\n",
       "      <td>0.000500</td>\n",
       "      <td>0.125514</td>\n",
       "      <td>-0.014178</td>\n",
       "      <td>0.005923</td>\n",
       "      <td>-0.001008</td>\n",
       "      <td>0.005877</td>\n",
       "      <td>1.000000</td>\n",
       "    </tr>\n",
       "  </tbody>\n",
       "</table>\n",
       "</div>"
      ],
      "text/plain": [
       "                    age  workclass  education  educationno  maritalstatus  \\\n",
       "age            1.000000   0.096037  -0.007948     0.026123      -0.262577   \n",
       "workclass      0.096037   1.000000   0.018005     0.046623      -0.031329   \n",
       "education     -0.007948   0.018005   1.000000     0.351486      -0.043117   \n",
       "educationno    0.026123   0.046623   0.351486     1.000000      -0.068079   \n",
       "maritalstatus -0.262577  -0.031329  -0.043117    -0.068079       1.000000   \n",
       "occupation    -0.002214   0.021271  -0.023999     0.093643       0.003854   \n",
       "relationship  -0.249701  -0.060235  -0.014227    -0.081413       0.185495   \n",
       "race           0.024485   0.059749   0.012133     0.029355      -0.073718   \n",
       "sex            0.082265   0.059161  -0.026978    -0.002052      -0.120374   \n",
       "capitalgain    0.078760   0.032980   0.028626     0.131750      -0.042405   \n",
       "capitalloss    0.057745   0.010242   0.020568     0.085817      -0.034073   \n",
       "hoursperweek   0.102758   0.052614   0.062892     0.133691      -0.171665   \n",
       "native        -0.005683  -0.003635   0.077065     0.097188      -0.016532   \n",
       "\n",
       "               occupation  relationship      race       sex  capitalgain  \\\n",
       "age             -0.002214     -0.249701  0.024485  0.082265     0.078760   \n",
       "workclass        0.021271     -0.060235  0.059749  0.059161     0.032980   \n",
       "education       -0.023999     -0.014227  0.012133 -0.026978     0.028626   \n",
       "educationno      0.093643     -0.081413  0.029355 -0.002052     0.131750   \n",
       "maritalstatus    0.003854      0.185495 -0.073718 -0.120374    -0.042405   \n",
       "occupation       1.000000     -0.047381 -0.001561  0.045244     0.014165   \n",
       "relationship    -0.047381      1.000000 -0.121481 -0.579212    -0.054040   \n",
       "race            -0.001561     -0.121481  1.000000  0.088450     0.013539   \n",
       "sex              0.045244     -0.579212  0.088450  1.000000     0.044843   \n",
       "capitalgain      0.014165     -0.054040  0.013539  0.044843     1.000000   \n",
       "capitalloss      0.016580     -0.048091  0.015799  0.045360    -0.031876   \n",
       "hoursperweek     0.011755     -0.261905  0.037125  0.231744     0.090501   \n",
       "native          -0.001311      0.000500  0.125514 -0.014178     0.005923   \n",
       "\n",
       "               capitalloss  hoursperweek    native  \n",
       "age               0.057745      0.102758 -0.005683  \n",
       "workclass         0.010242      0.052614 -0.003635  \n",
       "education         0.020568      0.062892  0.077065  \n",
       "educationno       0.085817      0.133691  0.097188  \n",
       "maritalstatus    -0.034073     -0.171665 -0.016532  \n",
       "occupation        0.016580      0.011755 -0.001311  \n",
       "relationship     -0.048091     -0.261905  0.000500  \n",
       "race              0.015799      0.037125  0.125514  \n",
       "sex               0.045360      0.231744 -0.014178  \n",
       "capitalgain      -0.031876      0.090501  0.005923  \n",
       "capitalloss       1.000000      0.057712 -0.001008  \n",
       "hoursperweek      0.057712      1.000000  0.005877  \n",
       "native           -0.001008      0.005877  1.000000  "
      ]
     },
     "execution_count": 14,
     "metadata": {},
     "output_type": "execute_result"
    }
   ],
   "source": [
    "dataset_Test.corr()"
   ]
  },
  {
   "cell_type": "code",
   "execution_count": 15,
   "id": "c9134df8",
   "metadata": {},
   "outputs": [
    {
     "data": {
      "text/plain": [
       "<AxesSubplot:xlabel='workclass', ylabel='count'>"
      ]
     },
     "execution_count": 15,
     "metadata": {},
     "output_type": "execute_result"
    },
    {
     "data": {
      "image/png": "[encoded data removed]",
      "text/plain": [
       "<Figure size 720x360 with 1 Axes>"
      ]
     },
     "metadata": {
      "needs_background": "light"
     },
     "output_type": "display_data"
    }
   ],
   "source": [
    "dims = (10,5)\n",
    "fig, ax = plt.subplots(figsize=dims)\n",
    "sns.countplot(ax = ax, data=dataset_Train,x='workclass',hue='Salary',palette='tab10')"
   ]
  },
  {
   "cell_type": "code",
   "execution_count": 16,
   "id": "0f20eeca",
   "metadata": {},
   "outputs": [
    {
     "data": {
      "text/plain": [
       "<AxesSubplot:xlabel='occupation', ylabel='count'>"
      ]
     },
     "execution_count": 16,
     "metadata": {},
     "output_type": "execute_result"
    },
    {
     "data": {
      "image/png": "[encoded data removed]",
      "text/plain": [
       "<Figure size 1440x360 with 1 Axes>"
      ]
     },
     "metadata": {
      "needs_background": "light"
     },
     "output_type": "display_data"
    }
   ],
   "source": [
    "dims = (20,5)\n",
    "fig, ax = plt.subplots(figsize=dims)\n",
    "sns.countplot(data=dataset_Train,x='occupation',hue='Salary',palette='tab10')"
   ]
  },
  {
   "cell_type": "code",
   "execution_count": 17,
   "id": "b5d4b950",
   "metadata": {},
   "outputs": [
    {
     "data": {
      "text/plain": [
       "<AxesSubplot:xlabel='workclass', ylabel='count'>"
      ]
     },
     "execution_count": 17,
     "metadata": {},
     "output_type": "execute_result"
    },
    {
     "data": {
      "image/png": "[encoded data removed]",
      "text/plain": [
       "<Figure size 720x360 with 1 Axes>"
      ]
     },
     "metadata": {
      "needs_background": "light"
     },
     "output_type": "display_data"
    }
   ],
   "source": [
    "dims = (10,5)\n",
    "fig, ax = plt.subplots(figsize=dims)\n",
    "sns.countplot(ax = ax, data=dataset_Test,x='workclass',hue='Salary',palette='tab10')"
   ]
  },
  {
   "cell_type": "code",
   "execution_count": 18,
   "id": "632e0aec",
   "metadata": {},
   "outputs": [
    {
     "data": {
      "text/plain": [
       "<AxesSubplot:xlabel='occupation', ylabel='count'>"
      ]
     },
     "execution_count": 18,
     "metadata": {},
     "output_type": "execute_result"
    },
    {
     "data": {
      "image/png": "[encoded data removed]",
      "text/plain": [
       "<Figure size 1440x360 with 1 Axes>"
      ]
     },
     "metadata": {
      "needs_background": "light"
     },
     "output_type": "display_data"
    }
   ],
   "source": [
    "dims = (20,5)\n",
    "fig, ax = plt.subplots(figsize=dims)\n",
    "sns.countplot(data=dataset_Test,x='occupation',hue='Salary',palette='tab10')"
   ]
  },
  {
   "cell_type": "code",
   "execution_count": 19,
   "id": "75d9064f",
   "metadata": {},
   "outputs": [
    {
     "data": {
      "text/plain": [
       " <=50K    22653\n",
       " >50K      7508\n",
       "Name: Salary, dtype: int64"
      ]
     },
     "execution_count": 19,
     "metadata": {},
     "output_type": "execute_result"
    }
   ],
   "source": [
    "dataset_Train.Salary.value_counts() #Data is highly biased"
   ]
  },
  {
   "cell_type": "code",
   "execution_count": 20,
   "id": "62c64fd1",
   "metadata": {},
   "outputs": [
    {
     "data": {
      "text/plain": [
       "9     4038\n",
       "2     4030\n",
       "3     3992\n",
       "0     3721\n",
       "11    3584\n",
       "7     3212\n",
       "6     1965\n",
       "13    1572\n",
       "5     1350\n",
       "4      989\n",
       "12     912\n",
       "10     644\n",
       "8      143\n",
       "1        9\n",
       "Name: occupation, dtype: int64"
      ]
     },
     "execution_count": 20,
     "metadata": {},
     "output_type": "execute_result"
    }
   ],
   "source": [
    "dataset_Train.occupation.value_counts()"
   ]
  },
  {
   "cell_type": "code",
   "execution_count": 21,
   "id": "f55569e2",
   "metadata": {},
   "outputs": [
    {
     "data": {
      "text/plain": [
       " <=50K    11360\n",
       " >50K      3700\n",
       "Name: Salary, dtype: int64"
      ]
     },
     "execution_count": 21,
     "metadata": {},
     "output_type": "execute_result"
    }
   ],
   "source": [
    "dataset_Test.Salary.value_counts()"
   ]
  },
  {
   "cell_type": "code",
   "execution_count": 22,
   "id": "6d3aa3d7",
   "metadata": {},
   "outputs": [
    {
     "data": {
      "text/plain": [
       "3     1992\n",
       "2     1990\n",
       "9     1970\n",
       "11    1824\n",
       "0     1819\n",
       "7     1596\n",
       "6     1004\n",
       "13     744\n",
       "5      696\n",
       "12     508\n",
       "4      491\n",
       "10     332\n",
       "8       89\n",
       "1        5\n",
       "Name: occupation, dtype: int64"
      ]
     },
     "execution_count": 22,
     "metadata": {},
     "output_type": "execute_result"
    }
   ],
   "source": [
    "dataset_Test.occupation.value_counts()"
   ]
  },
  {
   "cell_type": "markdown",
   "id": "7b006b23",
   "metadata": {},
   "source": [
    "# Train and Test Split"
   ]
  },
  {
   "cell_type": "code",
   "execution_count": 23,
   "id": "87bb2804",
   "metadata": {},
   "outputs": [],
   "source": [
    "# Splitting data into training and testing samples\n",
    "x_train=dataset_Train.iloc[:,0:13]\n",
    "y_train=dataset_Train.iloc[:,13]\n",
    "x_test=dataset_Test.iloc[:,0:13]\n",
    "y_test=dataset_Test.iloc[:,13]"
   ]
  },
  {
   "cell_type": "markdown",
   "id": "f75f3e3b",
   "metadata": {},
   "source": [
    "# Naive Bayes Classifier"
   ]
  },
  {
   "cell_type": "markdown",
   "id": "1f222c07",
   "metadata": {},
   "source": [
    "# MultinomialNB"
   ]
  },
  {
   "cell_type": "code",
   "execution_count": 24,
   "id": "ad11834d",
   "metadata": {},
   "outputs": [],
   "source": [
    "from sklearn.naive_bayes import MultinomialNB as MB"
   ]
  },
  {
   "cell_type": "code",
   "execution_count": 25,
   "id": "c0cf0e3b",
   "metadata": {},
   "outputs": [],
   "source": [
    "from sklearn.metrics import plot_confusion_matrix,classification_report"
   ]
  },
  {
   "cell_type": "code",
   "execution_count": 26,
   "id": "e42384f9",
   "metadata": {},
   "outputs": [
    {
     "data": {
      "text/plain": [
       "array([' <=50K', ' <=50K', ' <=50K', ..., ' <=50K', ' >50K', ' <=50K'],\n",
       "      dtype='<U6')"
      ]
     },
     "execution_count": 26,
     "metadata": {},
     "output_type": "execute_result"
    }
   ],
   "source": [
    "# Using Multinomial Naive Bayes \n",
    "model_mb=MB()\n",
    "model_mb.fit(x_train,y_train)\n",
    "pred_mb=model_mb.predict(x_test)\n",
    "pred_mb"
   ]
  },
  {
   "cell_type": "code",
   "execution_count": 27,
   "id": "c66561c5",
   "metadata": {},
   "outputs": [
    {
     "data": {
      "text/plain": [
       "0.7749667994687915"
      ]
     },
     "execution_count": 27,
     "metadata": {},
     "output_type": "execute_result"
    }
   ],
   "source": [
    "accuracy_mb=np.mean(pred_mb==y_test)\n",
    "accuracy_mb"
   ]
  },
  {
   "cell_type": "code",
   "execution_count": 28,
   "id": "8722f2b2",
   "metadata": {},
   "outputs": [],
   "source": [
    "def report(model):\n",
    "    preds = model.predict(x_test)\n",
    "    print(classification_report(y_test,preds))\n",
    "    plot_confusion_matrix(model,x_test,y_test)"
   ]
  },
  {
   "cell_type": "code",
   "execution_count": 29,
   "id": "7a4db49a",
   "metadata": {},
   "outputs": [
    {
     "name": "stdout",
     "output_type": "stream",
     "text": [
      "MultinomialNB\n",
      "              precision    recall  f1-score   support\n",
      "\n",
      "       <=50K       0.79      0.96      0.87     11360\n",
      "        >50K       0.62      0.21      0.32      3700\n",
      "\n",
      "    accuracy                           0.77     15060\n",
      "   macro avg       0.71      0.58      0.59     15060\n",
      "weighted avg       0.75      0.77      0.73     15060\n",
      "\n"
     ]
    },
    {
     "name": "stderr",
     "output_type": "stream",
     "text": [
      "C:\\Users\\Admin\\anaconda3\\lib\\site-packages\\sklearn\\utils\\deprecation.py:87: FutureWarning: Function plot_confusion_matrix is deprecated; Function `plot_confusion_matrix` is deprecated in 1.0 and will be removed in 1.2. Use one of the class methods: ConfusionMatrixDisplay.from_predictions or ConfusionMatrixDisplay.from_estimator.\n",
      "  warnings.warn(msg, category=FutureWarning)\n"
     ]
    },
    {
     "data": {
      "image/png": "[encoded data removed]",
      "text/plain": [
       "<Figure size 432x288 with 2 Axes>"
      ]
     },
     "metadata": {
      "needs_background": "light"
     },
     "output_type": "display_data"
    }
   ],
   "source": [
    "#MultinomialNB Evaluation\n",
    "print('MultinomialNB')\n",
    "report(model_mb) #model has high inbuilt bias"
   ]
  },
  {
   "cell_type": "markdown",
   "id": "ff530d30",
   "metadata": {},
   "source": [
    "# GaussianNB"
   ]
  },
  {
   "cell_type": "code",
   "execution_count": 30,
   "id": "8c58d190",
   "metadata": {},
   "outputs": [],
   "source": [
    "from sklearn.naive_bayes import GaussianNB as GB"
   ]
  },
  {
   "cell_type": "code",
   "execution_count": 31,
   "id": "c48b7e1c",
   "metadata": {},
   "outputs": [
    {
     "data": {
      "text/plain": [
       "array([' <=50K', ' <=50K', ' <=50K', ..., ' <=50K', ' >50K', ' <=50K'],\n",
       "      dtype='<U6')"
      ]
     },
     "execution_count": 31,
     "metadata": {},
     "output_type": "execute_result"
    }
   ],
   "source": [
    "# Using Gaussian naive Bayes\n",
    "model_gb=GB()\n",
    "model_gb.fit(x_train,y_train)\n",
    "pred_gb=model_gb.predict(x_test)\n",
    "pred_gb"
   ]
  },
  {
   "cell_type": "code",
   "execution_count": 32,
   "id": "03c4eb33",
   "metadata": {},
   "outputs": [
    {
     "data": {
      "text/plain": [
       "0.7946879150066402"
      ]
     },
     "execution_count": 32,
     "metadata": {},
     "output_type": "execute_result"
    }
   ],
   "source": [
    "accuracy_gb=np.mean(pred_gb==y_test)\n",
    "accuracy_gb"
   ]
  },
  {
   "cell_type": "code",
   "execution_count": 33,
   "id": "b74a45ba",
   "metadata": {},
   "outputs": [
    {
     "name": "stdout",
     "output_type": "stream",
     "text": [
      "GaussianNB\n",
      "              precision    recall  f1-score   support\n",
      "\n",
      "       <=50K       0.81      0.95      0.87     11360\n",
      "        >50K       0.67      0.33      0.44      3700\n",
      "\n",
      "    accuracy                           0.79     15060\n",
      "   macro avg       0.74      0.64      0.66     15060\n",
      "weighted avg       0.78      0.79      0.77     15060\n",
      "\n"
     ]
    },
    {
     "name": "stderr",
     "output_type": "stream",
     "text": [
      "C:\\Users\\Admin\\anaconda3\\lib\\site-packages\\sklearn\\utils\\deprecation.py:87: FutureWarning: Function plot_confusion_matrix is deprecated; Function `plot_confusion_matrix` is deprecated in 1.0 and will be removed in 1.2. Use one of the class methods: ConfusionMatrixDisplay.from_predictions or ConfusionMatrixDisplay.from_estimator.\n",
      "  warnings.warn(msg, category=FutureWarning)\n"
     ]
    },
    {
     "data": {
      "image/png": "[encoded data removed]",
      "text/plain": [
       "<Figure size 432x288 with 2 Axes>"
      ]
     },
     "metadata": {
      "needs_background": "light"
     },
     "output_type": "display_data"
    }
   ],
   "source": [
    "#GaussianNB Evaluation\n",
    "print('GaussianNB')\n",
    "report(model_gb)"
   ]
  },
  {
   "cell_type": "markdown",
   "id": "58a43604",
   "metadata": {},
   "source": [
    "# Results:"
   ]
  },
  {
   "cell_type": "markdown",
   "id": "5abe7389",
   "metadata": {},
   "source": [
    "Worked with SalaryData_Train & SalaryData_Test where label Encoder is used to assign a unique integer based on alphabetical ordering.\n",
    "\n",
    "Both dataset having the same column names therefore Naive Bayes Classifier applied together.\n",
    "\n",
    "Used Train and Test Split, applied Multinomial Naive Bayes and Gaussian Naive Bayes.\n",
    "\n",
    "To visualise some relations of important features, countplot used.\n",
    "\n",
    "   Data is highly biased   \n",
    "    <=50K         22653\n",
    "   \n",
    "    >50K         7508\n",
    "\n",
    "Multinomial Naive Bayes classified model with accuracy 77.49% & Gaussian Naive Bayes classified model with accuracy 79.46% and predicted and true label shown with the help of confusion matrix."
   ]
  },
  {
   "cell_type": "code",
   "execution_count": null,
   "id": "984957c8",
   "metadata": {},
   "outputs": [],
   "source": []
  },
  {
   "cell_type": "code",
   "execution_count": null,
   "id": "aa0a3545",
   "metadata": {},
   "outputs": [],
   "source": []
  }
 ],
 "metadata": {
  "kernelspec": {
   "display_name": "Python 3 (ipykernel)",
   "language": "python",
   "name": "python3"
  },
  "language_info": {
   "codemirror_mode": {
    "name": "ipython",
    "version": 3
   },
   "file_extension": ".py",
   "mimetype": "text/x-python",
   "name": "python",
   "nbconvert_exporter": "python",
   "pygments_lexer": "ipython3",
   "version": "3.9.7"
  }
 },
 "nbformat": 4,
 "nbformat_minor": 5
}
